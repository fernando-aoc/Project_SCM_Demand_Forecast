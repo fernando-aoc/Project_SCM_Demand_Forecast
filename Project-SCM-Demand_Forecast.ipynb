{
 "cells": [
  {
   "cell_type": "markdown",
   "id": "3cf6097a",
   "metadata": {},
   "source": [
    "# Modelo de Previsão de Demanda"
   ]
  },
  {
   "cell_type": "markdown",
   "id": "4bb2acba",
   "metadata": {},
   "source": [
    "#### # Importando Módulos"
   ]
  },
  {
   "cell_type": "code",
   "execution_count": 47,
   "id": "40788ed5",
   "metadata": {},
   "outputs": [],
   "source": [
    "import pandas as pd\n",
    "from sklearn.linear_model import LinearRegression\n",
    "import matplotlib.pyplot as plt\n",
    "import seaborn as sns"
   ]
  },
  {
   "cell_type": "markdown",
   "id": "bb095de9",
   "metadata": {},
   "source": [
    "## Parte I: Importando e Ententendo Base de Dados"
   ]
  },
  {
   "cell_type": "code",
   "execution_count": 48,
   "id": "e906f917",
   "metadata": {},
   "outputs": [],
   "source": [
    "dados = pd.read_excel('dados/Base Vendas.xlsx')"
   ]
  },
  {
   "cell_type": "code",
   "execution_count": 49,
   "id": "f0614e96",
   "metadata": {},
   "outputs": [
    {
     "data": {
      "text/html": [
       "<div>\n",
       "<style scoped>\n",
       "    .dataframe tbody tr th:only-of-type {\n",
       "        vertical-align: middle;\n",
       "    }\n",
       "\n",
       "    .dataframe tbody tr th {\n",
       "        vertical-align: top;\n",
       "    }\n",
       "\n",
       "    .dataframe thead th {\n",
       "        text-align: right;\n",
       "    }\n",
       "</style>\n",
       "<table border=\"1\" class=\"dataframe\">\n",
       "  <thead>\n",
       "    <tr style=\"text-align: right;\">\n",
       "      <th></th>\n",
       "      <th>SKU</th>\n",
       "      <th>Produto</th>\n",
       "      <th>Qtd Vendida</th>\n",
       "      <th>Data</th>\n",
       "      <th>Loja</th>\n",
       "      <th>Preço Unitário</th>\n",
       "      <th>Nome</th>\n",
       "      <th>Sobrenome</th>\n",
       "      <th>Gênero</th>\n",
       "      <th>Unnamed: 9</th>\n",
       "    </tr>\n",
       "  </thead>\n",
       "  <tbody>\n",
       "    <tr>\n",
       "      <th>0</th>\n",
       "      <td>HL1918</td>\n",
       "      <td>iPhone</td>\n",
       "      <td>4</td>\n",
       "      <td>2020-01-01</td>\n",
       "      <td>Salvador - BA</td>\n",
       "      <td>5300</td>\n",
       "      <td>Wilson</td>\n",
       "      <td>Arruda</td>\n",
       "      <td>M</td>\n",
       "      <td>NaN</td>\n",
       "    </tr>\n",
       "    <tr>\n",
       "      <th>1</th>\n",
       "      <td>HL7348</td>\n",
       "      <td>SmartWatch</td>\n",
       "      <td>5</td>\n",
       "      <td>2020-01-01</td>\n",
       "      <td>São Paulo - SP</td>\n",
       "      <td>1400</td>\n",
       "      <td>Anna</td>\n",
       "      <td>Silva</td>\n",
       "      <td>F</td>\n",
       "      <td>NaN</td>\n",
       "    </tr>\n",
       "    <tr>\n",
       "      <th>2</th>\n",
       "      <td>HL1148</td>\n",
       "      <td>Câmera</td>\n",
       "      <td>2</td>\n",
       "      <td>2020-01-01</td>\n",
       "      <td>Curitiba - PR</td>\n",
       "      <td>2100</td>\n",
       "      <td>Natalia</td>\n",
       "      <td>Oliveira</td>\n",
       "      <td>F</td>\n",
       "      <td>NaN</td>\n",
       "    </tr>\n",
       "    <tr>\n",
       "      <th>3</th>\n",
       "      <td>HL8851</td>\n",
       "      <td>Notebook</td>\n",
       "      <td>2</td>\n",
       "      <td>2020-01-01</td>\n",
       "      <td>São Paulo - SP</td>\n",
       "      <td>3500</td>\n",
       "      <td>Caio</td>\n",
       "      <td>Vianna</td>\n",
       "      <td>M</td>\n",
       "      <td>NaN</td>\n",
       "    </tr>\n",
       "    <tr>\n",
       "      <th>4</th>\n",
       "      <td>HL9962</td>\n",
       "      <td>Android</td>\n",
       "      <td>1</td>\n",
       "      <td>2020-01-01</td>\n",
       "      <td>Salvador - BA</td>\n",
       "      <td>3400</td>\n",
       "      <td>Maria</td>\n",
       "      <td>Ribeiro</td>\n",
       "      <td>F</td>\n",
       "      <td>NaN</td>\n",
       "    </tr>\n",
       "  </tbody>\n",
       "</table>\n",
       "</div>"
      ],
      "text/plain": [
       "      SKU     Produto  Qtd Vendida       Data            Loja  Preço Unitário  \\\n",
       "0  HL1918      iPhone            4 2020-01-01   Salvador - BA            5300   \n",
       "1  HL7348  SmartWatch            5 2020-01-01  São Paulo - SP            1400   \n",
       "2  HL1148      Câmera            2 2020-01-01   Curitiba - PR            2100   \n",
       "3  HL8851    Notebook            2 2020-01-01  São Paulo - SP            3500   \n",
       "4  HL9962     Android            1 2020-01-01   Salvador - BA            3400   \n",
       "\n",
       "      Nome Sobrenome Gênero Unnamed: 9  \n",
       "0   Wilson    Arruda      M        NaN  \n",
       "1     Anna     Silva      F        NaN  \n",
       "2  Natalia  Oliveira      F        NaN  \n",
       "3     Caio    Vianna      M        NaN  \n",
       "4    Maria   Ribeiro      F        NaN  "
      ]
     },
     "execution_count": 49,
     "metadata": {},
     "output_type": "execute_result"
    }
   ],
   "source": [
    "dados.head()"
   ]
  },
  {
   "cell_type": "code",
   "execution_count": 50,
   "id": "31647008",
   "metadata": {},
   "outputs": [
    {
     "name": "stdout",
     "output_type": "stream",
     "text": [
      "<class 'pandas.core.frame.DataFrame'>\n",
      "RangeIndex: 9999 entries, 0 to 9998\n",
      "Data columns (total 10 columns):\n",
      " #   Column          Non-Null Count  Dtype         \n",
      "---  ------          --------------  -----         \n",
      " 0   SKU             9999 non-null   object        \n",
      " 1   Produto         9999 non-null   object        \n",
      " 2   Qtd Vendida     9999 non-null   int64         \n",
      " 3   Data            9999 non-null   datetime64[ns]\n",
      " 4   Loja            9999 non-null   object        \n",
      " 5   Preço Unitário  9999 non-null   int64         \n",
      " 6   Nome            9999 non-null   object        \n",
      " 7   Sobrenome       9999 non-null   object        \n",
      " 8   Gênero          9999 non-null   object        \n",
      " 9   Unnamed: 9      1 non-null      object        \n",
      "dtypes: datetime64[ns](1), int64(2), object(7)\n",
      "memory usage: 781.3+ KB\n"
     ]
    }
   ],
   "source": [
    "dados.info()"
   ]
  },
  {
   "cell_type": "code",
   "execution_count": 51,
   "id": "60a16033",
   "metadata": {},
   "outputs": [
    {
     "data": {
      "text/plain": [
       "(9999, 10)"
      ]
     },
     "execution_count": 51,
     "metadata": {},
     "output_type": "execute_result"
    }
   ],
   "source": [
    "dados.shape"
   ]
  },
  {
   "cell_type": "markdown",
   "id": "2b74f11f",
   "metadata": {},
   "source": [
    "## Parte II: Tratando Base de Dados"
   ]
  },
  {
   "cell_type": "code",
   "execution_count": 53,
   "id": "f6128441",
   "metadata": {},
   "outputs": [],
   "source": [
    "dados.drop(columns = ['Produto', 'SKU', 'Gênero', 'Loja', 'Preço Unitário', 'Nome', 'Sobrenome','Unnamed: 9'], axis = 1, inplace = True)"
   ]
  },
  {
   "cell_type": "code",
   "execution_count": 54,
   "id": "0a555cc8",
   "metadata": {},
   "outputs": [
    {
     "data": {
      "text/html": [
       "<div>\n",
       "<style scoped>\n",
       "    .dataframe tbody tr th:only-of-type {\n",
       "        vertical-align: middle;\n",
       "    }\n",
       "\n",
       "    .dataframe tbody tr th {\n",
       "        vertical-align: top;\n",
       "    }\n",
       "\n",
       "    .dataframe thead th {\n",
       "        text-align: right;\n",
       "    }\n",
       "</style>\n",
       "<table border=\"1\" class=\"dataframe\">\n",
       "  <thead>\n",
       "    <tr style=\"text-align: right;\">\n",
       "      <th></th>\n",
       "      <th>Qtd Vendida</th>\n",
       "      <th>Data</th>\n",
       "    </tr>\n",
       "  </thead>\n",
       "  <tbody>\n",
       "    <tr>\n",
       "      <th>0</th>\n",
       "      <td>4</td>\n",
       "      <td>2020-01-01</td>\n",
       "    </tr>\n",
       "    <tr>\n",
       "      <th>1</th>\n",
       "      <td>5</td>\n",
       "      <td>2020-01-01</td>\n",
       "    </tr>\n",
       "    <tr>\n",
       "      <th>2</th>\n",
       "      <td>2</td>\n",
       "      <td>2020-01-01</td>\n",
       "    </tr>\n",
       "    <tr>\n",
       "      <th>3</th>\n",
       "      <td>2</td>\n",
       "      <td>2020-01-01</td>\n",
       "    </tr>\n",
       "    <tr>\n",
       "      <th>4</th>\n",
       "      <td>1</td>\n",
       "      <td>2020-01-01</td>\n",
       "    </tr>\n",
       "  </tbody>\n",
       "</table>\n",
       "</div>"
      ],
      "text/plain": [
       "   Qtd Vendida       Data\n",
       "0            4 2020-01-01\n",
       "1            5 2020-01-01\n",
       "2            2 2020-01-01\n",
       "3            2 2020-01-01\n",
       "4            1 2020-01-01"
      ]
     },
     "execution_count": 54,
     "metadata": {},
     "output_type": "execute_result"
    }
   ],
   "source": [
    "dados.head()"
   ]
  },
  {
   "cell_type": "code",
   "execution_count": 55,
   "id": "b23b258a",
   "metadata": {},
   "outputs": [],
   "source": [
    "vendas = dados.groupby(['Data'])[['Qtd Vendida']].sum().reset_index()"
   ]
  },
  {
   "cell_type": "code",
   "execution_count": 56,
   "id": "9c60301c",
   "metadata": {},
   "outputs": [
    {
     "data": {
      "text/html": [
       "<div>\n",
       "<style scoped>\n",
       "    .dataframe tbody tr th:only-of-type {\n",
       "        vertical-align: middle;\n",
       "    }\n",
       "\n",
       "    .dataframe tbody tr th {\n",
       "        vertical-align: top;\n",
       "    }\n",
       "\n",
       "    .dataframe thead th {\n",
       "        text-align: right;\n",
       "    }\n",
       "</style>\n",
       "<table border=\"1\" class=\"dataframe\">\n",
       "  <thead>\n",
       "    <tr style=\"text-align: right;\">\n",
       "      <th></th>\n",
       "      <th>Data</th>\n",
       "      <th>Qtd Vendida</th>\n",
       "    </tr>\n",
       "  </thead>\n",
       "  <tbody>\n",
       "    <tr>\n",
       "      <th>0</th>\n",
       "      <td>2020-01-01</td>\n",
       "      <td>99</td>\n",
       "    </tr>\n",
       "    <tr>\n",
       "      <th>1</th>\n",
       "      <td>2020-01-02</td>\n",
       "      <td>102</td>\n",
       "    </tr>\n",
       "    <tr>\n",
       "      <th>2</th>\n",
       "      <td>2020-01-03</td>\n",
       "      <td>136</td>\n",
       "    </tr>\n",
       "    <tr>\n",
       "      <th>3</th>\n",
       "      <td>2020-01-04</td>\n",
       "      <td>73</td>\n",
       "    </tr>\n",
       "    <tr>\n",
       "      <th>4</th>\n",
       "      <td>2020-01-05</td>\n",
       "      <td>78</td>\n",
       "    </tr>\n",
       "  </tbody>\n",
       "</table>\n",
       "</div>"
      ],
      "text/plain": [
       "        Data  Qtd Vendida\n",
       "0 2020-01-01           99\n",
       "1 2020-01-02          102\n",
       "2 2020-01-03          136\n",
       "3 2020-01-04           73\n",
       "4 2020-01-05           78"
      ]
     },
     "execution_count": 56,
     "metadata": {},
     "output_type": "execute_result"
    }
   ],
   "source": [
    "vendas.head()"
   ]
  },
  {
   "cell_type": "code",
   "execution_count": 57,
   "id": "868a2ec2",
   "metadata": {},
   "outputs": [
    {
     "data": {
      "text/plain": [
       "<AxesSubplot:xlabel='Data'>"
      ]
     },
     "execution_count": 57,
     "metadata": {},
     "output_type": "execute_result"
    },
    {
     "data": {
      "image/png": "[encoded data removed]",
      "text/plain": [
       "<Figure size 640x480 with 1 Axes>"
      ]
     },
     "metadata": {},
     "output_type": "display_data"
    }
   ],
   "source": [
    "vendas.plot(y = 'Qtd Vendida', x = 'Data')"
   ]
  },
  {
   "cell_type": "markdown",
   "id": "1c21d636",
   "metadata": {},
   "source": [
    "## Parte III: Treinando Modelo de Previsão de Demanda com Regressão Linear"
   ]
  },
  {
   "cell_type": "code",
   "execution_count": 58,
   "id": "77479834",
   "metadata": {},
   "outputs": [],
   "source": [
    "vendas['Mês'] = vendas['Data'].dt.month"
   ]
  },
  {
   "cell_type": "code",
   "execution_count": 59,
   "id": "32079602",
   "metadata": {},
   "outputs": [
    {
     "data": {
      "text/html": [
       "<div>\n",
       "<style scoped>\n",
       "    .dataframe tbody tr th:only-of-type {\n",
       "        vertical-align: middle;\n",
       "    }\n",
       "\n",
       "    .dataframe tbody tr th {\n",
       "        vertical-align: top;\n",
       "    }\n",
       "\n",
       "    .dataframe thead th {\n",
       "        text-align: right;\n",
       "    }\n",
       "</style>\n",
       "<table border=\"1\" class=\"dataframe\">\n",
       "  <thead>\n",
       "    <tr style=\"text-align: right;\">\n",
       "      <th></th>\n",
       "      <th>Data</th>\n",
       "      <th>Qtd Vendida</th>\n",
       "      <th>Mês</th>\n",
       "    </tr>\n",
       "  </thead>\n",
       "  <tbody>\n",
       "    <tr>\n",
       "      <th>0</th>\n",
       "      <td>2020-01-01</td>\n",
       "      <td>99</td>\n",
       "      <td>1</td>\n",
       "    </tr>\n",
       "    <tr>\n",
       "      <th>1</th>\n",
       "      <td>2020-01-02</td>\n",
       "      <td>102</td>\n",
       "      <td>1</td>\n",
       "    </tr>\n",
       "    <tr>\n",
       "      <th>2</th>\n",
       "      <td>2020-01-03</td>\n",
       "      <td>136</td>\n",
       "      <td>1</td>\n",
       "    </tr>\n",
       "    <tr>\n",
       "      <th>3</th>\n",
       "      <td>2020-01-04</td>\n",
       "      <td>73</td>\n",
       "      <td>1</td>\n",
       "    </tr>\n",
       "    <tr>\n",
       "      <th>4</th>\n",
       "      <td>2020-01-05</td>\n",
       "      <td>78</td>\n",
       "      <td>1</td>\n",
       "    </tr>\n",
       "  </tbody>\n",
       "</table>\n",
       "</div>"
      ],
      "text/plain": [
       "        Data  Qtd Vendida  Mês\n",
       "0 2020-01-01           99    1\n",
       "1 2020-01-02          102    1\n",
       "2 2020-01-03          136    1\n",
       "3 2020-01-04           73    1\n",
       "4 2020-01-05           78    1"
      ]
     },
     "execution_count": 59,
     "metadata": {},
     "output_type": "execute_result"
    }
   ],
   "source": [
    "vendas.head()"
   ]
  },
  {
   "cell_type": "code",
   "execution_count": 60,
   "id": "3f0faaea",
   "metadata": {},
   "outputs": [],
   "source": [
    "vendas['trend'] = range(vendas.shape[0])"
   ]
  },
  {
   "cell_type": "code",
   "execution_count": 61,
   "id": "67a05387",
   "metadata": {},
   "outputs": [
    {
     "data": {
      "text/html": [
       "<div>\n",
       "<style scoped>\n",
       "    .dataframe tbody tr th:only-of-type {\n",
       "        vertical-align: middle;\n",
       "    }\n",
       "\n",
       "    .dataframe tbody tr th {\n",
       "        vertical-align: top;\n",
       "    }\n",
       "\n",
       "    .dataframe thead th {\n",
       "        text-align: right;\n",
       "    }\n",
       "</style>\n",
       "<table border=\"1\" class=\"dataframe\">\n",
       "  <thead>\n",
       "    <tr style=\"text-align: right;\">\n",
       "      <th></th>\n",
       "      <th>Data</th>\n",
       "      <th>Qtd Vendida</th>\n",
       "      <th>Mês</th>\n",
       "      <th>trend</th>\n",
       "    </tr>\n",
       "  </thead>\n",
       "  <tbody>\n",
       "    <tr>\n",
       "      <th>0</th>\n",
       "      <td>2020-01-01</td>\n",
       "      <td>99</td>\n",
       "      <td>1</td>\n",
       "      <td>0</td>\n",
       "    </tr>\n",
       "    <tr>\n",
       "      <th>1</th>\n",
       "      <td>2020-01-02</td>\n",
       "      <td>102</td>\n",
       "      <td>1</td>\n",
       "      <td>1</td>\n",
       "    </tr>\n",
       "    <tr>\n",
       "      <th>2</th>\n",
       "      <td>2020-01-03</td>\n",
       "      <td>136</td>\n",
       "      <td>1</td>\n",
       "      <td>2</td>\n",
       "    </tr>\n",
       "    <tr>\n",
       "      <th>3</th>\n",
       "      <td>2020-01-04</td>\n",
       "      <td>73</td>\n",
       "      <td>1</td>\n",
       "      <td>3</td>\n",
       "    </tr>\n",
       "    <tr>\n",
       "      <th>4</th>\n",
       "      <td>2020-01-05</td>\n",
       "      <td>78</td>\n",
       "      <td>1</td>\n",
       "      <td>4</td>\n",
       "    </tr>\n",
       "  </tbody>\n",
       "</table>\n",
       "</div>"
      ],
      "text/plain": [
       "        Data  Qtd Vendida  Mês  trend\n",
       "0 2020-01-01           99    1      0\n",
       "1 2020-01-02          102    1      1\n",
       "2 2020-01-03          136    1      2\n",
       "3 2020-01-04           73    1      3\n",
       "4 2020-01-05           78    1      4"
      ]
     },
     "execution_count": 61,
     "metadata": {},
     "output_type": "execute_result"
    }
   ],
   "source": [
    "vendas.head()"
   ]
  },
  {
   "cell_type": "code",
   "execution_count": 62,
   "id": "c2700e34",
   "metadata": {},
   "outputs": [],
   "source": [
    "vendas['Mês'] = vendas['Mês'].astype('category')"
   ]
  },
  {
   "cell_type": "code",
   "execution_count": 63,
   "id": "59a79fc3",
   "metadata": {},
   "outputs": [],
   "source": [
    "x = vendas.drop(columns = ['Data', 'Qtd Vendida'], axis = 1)"
   ]
  },
  {
   "cell_type": "code",
   "execution_count": 64,
   "id": "ba9ac921",
   "metadata": {},
   "outputs": [
    {
     "data": {
      "text/html": [
       "<div>\n",
       "<style scoped>\n",
       "    .dataframe tbody tr th:only-of-type {\n",
       "        vertical-align: middle;\n",
       "    }\n",
       "\n",
       "    .dataframe tbody tr th {\n",
       "        vertical-align: top;\n",
       "    }\n",
       "\n",
       "    .dataframe thead th {\n",
       "        text-align: right;\n",
       "    }\n",
       "</style>\n",
       "<table border=\"1\" class=\"dataframe\">\n",
       "  <thead>\n",
       "    <tr style=\"text-align: right;\">\n",
       "      <th></th>\n",
       "      <th>Mês</th>\n",
       "      <th>trend</th>\n",
       "    </tr>\n",
       "  </thead>\n",
       "  <tbody>\n",
       "    <tr>\n",
       "      <th>0</th>\n",
       "      <td>1</td>\n",
       "      <td>0</td>\n",
       "    </tr>\n",
       "    <tr>\n",
       "      <th>1</th>\n",
       "      <td>1</td>\n",
       "      <td>1</td>\n",
       "    </tr>\n",
       "    <tr>\n",
       "      <th>2</th>\n",
       "      <td>1</td>\n",
       "      <td>2</td>\n",
       "    </tr>\n",
       "    <tr>\n",
       "      <th>3</th>\n",
       "      <td>1</td>\n",
       "      <td>3</td>\n",
       "    </tr>\n",
       "    <tr>\n",
       "      <th>4</th>\n",
       "      <td>1</td>\n",
       "      <td>4</td>\n",
       "    </tr>\n",
       "    <tr>\n",
       "      <th>...</th>\n",
       "      <td>...</td>\n",
       "      <td>...</td>\n",
       "    </tr>\n",
       "    <tr>\n",
       "      <th>360</th>\n",
       "      <td>12</td>\n",
       "      <td>360</td>\n",
       "    </tr>\n",
       "    <tr>\n",
       "      <th>361</th>\n",
       "      <td>12</td>\n",
       "      <td>361</td>\n",
       "    </tr>\n",
       "    <tr>\n",
       "      <th>362</th>\n",
       "      <td>12</td>\n",
       "      <td>362</td>\n",
       "    </tr>\n",
       "    <tr>\n",
       "      <th>363</th>\n",
       "      <td>12</td>\n",
       "      <td>363</td>\n",
       "    </tr>\n",
       "    <tr>\n",
       "      <th>364</th>\n",
       "      <td>12</td>\n",
       "      <td>364</td>\n",
       "    </tr>\n",
       "  </tbody>\n",
       "</table>\n",
       "<p>365 rows × 2 columns</p>\n",
       "</div>"
      ],
      "text/plain": [
       "    Mês  trend\n",
       "0     1      0\n",
       "1     1      1\n",
       "2     1      2\n",
       "3     1      3\n",
       "4     1      4\n",
       "..   ..    ...\n",
       "360  12    360\n",
       "361  12    361\n",
       "362  12    362\n",
       "363  12    363\n",
       "364  12    364\n",
       "\n",
       "[365 rows x 2 columns]"
      ]
     },
     "execution_count": 64,
     "metadata": {},
     "output_type": "execute_result"
    }
   ],
   "source": [
    "x"
   ]
  },
  {
   "cell_type": "code",
   "execution_count": 65,
   "id": "d0169689",
   "metadata": {},
   "outputs": [],
   "source": [
    "nomes = pd.get_dummies(x).columns"
   ]
  },
  {
   "cell_type": "code",
   "execution_count": 66,
   "id": "ca271c62",
   "metadata": {},
   "outputs": [
    {
     "data": {
      "text/plain": [
       "array([[0, True, False, ..., False, False, False],\n",
       "       [1, True, False, ..., False, False, False],\n",
       "       [2, True, False, ..., False, False, False],\n",
       "       ...,\n",
       "       [362, False, False, ..., False, False, True],\n",
       "       [363, False, False, ..., False, False, True],\n",
       "       [364, False, False, ..., False, False, True]], dtype=object)"
      ]
     },
     "execution_count": 66,
     "metadata": {},
     "output_type": "execute_result"
    }
   ],
   "source": [
    "x = pd.get_dummies(x).values\n",
    "x"
   ]
  },
  {
   "cell_type": "code",
   "execution_count": 67,
   "id": "0190aee8",
   "metadata": {},
   "outputs": [
    {
     "data": {
      "text/plain": [
       "array([ 99, 102, 136,  73,  78, 106, 116, 138,  99,  96, 112, 112, 117,\n",
       "       101, 121, 111,  92, 111,  99,  96, 122, 120, 135, 133,  98,  97,\n",
       "       111, 112,  97, 112,  92,  48,  77,  89,  66,  83, 109,  68,  88,\n",
       "       116,  68,  83,  72,  92, 112,  94,  88, 110, 100,  98, 111,  99,\n",
       "        93,  96,  80,  67,  83, 105, 113,  50,  49,  72,  63,  40,  40,\n",
       "        64,  52,  56,  44,  38,  34,  49,  38,  59,  37,  57,  65,  52,\n",
       "        53,  54,  29,  38,  41,  72,  38,  54,  50,  39,  66,  52,  56,\n",
       "        50,  67,  57,  72,  50,  55,  69,  50,  44,  62,  61,  62,  68,\n",
       "        89,  81,  80,  45,  79,  81,  47,  38, 121,  66,  59,  56,  38,\n",
       "        66,  54,  52,  58,  92,  80,  75,  51,  68,  75,  81,  69, 103,\n",
       "        85,  78,  83,  78,  76,  66,  65,  98,  86,  58, 120,  70,  72,\n",
       "        83, 106,  66,  72,  52,  65,  52,  74,  77,  78,  72,  78,  76,\n",
       "        94,  63,  74,  98,  99,  71,  83,  98,  77,  73,  90, 103,  76,\n",
       "       121,  95, 105,  77,  81, 115,  58,  88, 106,  83,  75, 100,  82,\n",
       "        88, 118,  82, 113, 103,  78,  82,  94, 123,  94, 100,  80,  88,\n",
       "       118,  92, 116,  70, 116,  96,  93,  51,  97,  91, 121, 103,  93,\n",
       "       104,  76,  91,  86,  33,  48,  37,  57,  46,  58,  52,  90,  76,\n",
       "        64,  67,  35,  58,  66,  44,  59,  50,  61,  52,  27,  49,  74,\n",
       "        38,  38,  28,  43,  68,  38,  46,  53,  52,  74,  81, 104,  68,\n",
       "        80,  78,  73,  80,  83,  59, 109,  55,  88,  81, 114,  96,  75,\n",
       "        97,  93,  78,  66,  88,  62,  92,  88,  46,  78,  78, 106,  76,\n",
       "        77,  83,  77,  66,  93,  70,  45, 123, 114,  58,  97,  52,  82,\n",
       "        70,  64,  93,  71,  71,  56,  67,  94,  79,  92,  74,  85,  86,\n",
       "        98, 102,  68,  84,  75,  87,  99,  77,  84,  91, 111, 133,  87,\n",
       "        68,  85, 105,  89,  99, 122,  69,  94, 100,  70,  63,  99, 124,\n",
       "        86,  86,  88, 105, 100,  72,  82,  98, 111, 160, 133, 114, 146,\n",
       "       107,  89, 113,  79,  80, 116, 137, 129,  85, 100,  93, 147, 107,\n",
       "        98, 116, 127,  87, 100, 132, 109, 120, 116, 115, 157,  91, 134,\n",
       "       151], dtype=int64)"
      ]
     },
     "execution_count": 67,
     "metadata": {},
     "output_type": "execute_result"
    }
   ],
   "source": [
    "y = vendas['Qtd Vendida'].values\n",
    "y"
   ]
  },
  {
   "cell_type": "code",
   "execution_count": 68,
   "id": "4c71da3d",
   "metadata": {},
   "outputs": [],
   "source": [
    "modelo = LinearRegression()"
   ]
  },
  {
   "cell_type": "code",
   "execution_count": 69,
   "id": "79c8b70f",
   "metadata": {},
   "outputs": [
    {
     "data": {
      "text/plain": [
       "LinearRegression()"
      ]
     },
     "execution_count": 69,
     "metadata": {},
     "output_type": "execute_result"
    }
   ],
   "source": [
    "modelo.fit(x, y)"
   ]
  },
  {
   "cell_type": "code",
   "execution_count": 70,
   "id": "67bbef85",
   "metadata": {},
   "outputs": [
    {
     "data": {
      "text/plain": [
       "{'copy_X': True,\n",
       " 'fit_intercept': True,\n",
       " 'n_jobs': None,\n",
       " 'normalize': 'deprecated',\n",
       " 'positive': False}"
      ]
     },
     "execution_count": 70,
     "metadata": {},
     "output_type": "execute_result"
    }
   ],
   "source": [
    "modelo.get_params()"
   ]
  },
  {
   "cell_type": "code",
   "execution_count": 71,
   "id": "15c80843",
   "metadata": {},
   "outputs": [
    {
     "data": {
      "text/plain": [
       "array([  0.09811194,  41.8266961 ,  20.63285484, -21.99416615,\n",
       "       -12.32528985,  -1.78544581,   5.32321543,  11.00391969,\n",
       "       -35.00529224,  -8.30308261, -13.28044287,  -3.021244  ,\n",
       "        16.92827746])"
      ]
     },
     "execution_count": 71,
     "metadata": {},
     "output_type": "execute_result"
    }
   ],
   "source": [
    "modelo.coef_"
   ]
  },
  {
   "cell_type": "code",
   "execution_count": 72,
   "id": "c5ad7331",
   "metadata": {},
   "outputs": [],
   "source": [
    "dict_1 = list(zip(nomes, modelo.coef_))"
   ]
  },
  {
   "cell_type": "code",
   "execution_count": 73,
   "id": "b11f3332",
   "metadata": {},
   "outputs": [],
   "source": [
    "previsao = modelo.predict(x)"
   ]
  },
  {
   "cell_type": "code",
   "execution_count": 74,
   "id": "21c6ca6d",
   "metadata": {},
   "outputs": [
    {
     "data": {
      "text/plain": [
       "array([106.39928871, 106.49740065, 106.59551258, 106.69362452,\n",
       "       106.79173645, 106.88984839, 106.98796032, 107.08607226,\n",
       "       107.1841842 , 107.28229613, 107.38040807, 107.47852   ,\n",
       "       107.57663194, 107.67474387, 107.77285581, 107.87096774,\n",
       "       107.96907968, 108.06719161, 108.16530355, 108.26341548,\n",
       "       108.36152742, 108.45963935, 108.55775129, 108.65586322,\n",
       "       108.75397516, 108.85208709, 108.95019903, 109.04831097,\n",
       "       109.1464229 , 109.24453484, 109.34264677,  88.24691745,\n",
       "        88.34502938,  88.44314132,  88.54125325,  88.63936519,\n",
       "        88.73747712,  88.83558906,  88.93370099,  89.03181293,\n",
       "        89.12992486,  89.2280368 ,  89.32614873,  89.42426067,\n",
       "        89.5223726 ,  89.62048454,  89.71859647,  89.81670841,\n",
       "        89.91482034,  90.01293228,  90.11104422,  90.20915615,\n",
       "        90.30726809,  90.40538002,  90.50349196,  90.60160389,\n",
       "        90.69971583,  90.79782776,  90.8959397 ,  48.36703065,\n",
       "        48.46514258,  48.56325452,  48.66136645,  48.75947839,\n",
       "        48.85759032,  48.95570226,  49.0538142 ,  49.15192613,\n",
       "        49.25003807,  49.34815   ,  49.44626194,  49.54437387,\n",
       "        49.64248581,  49.74059774,  49.83870968,  49.93682161,\n",
       "        50.03493355,  50.13304548,  50.23115742,  50.32926935,\n",
       "        50.42738129,  50.52549322,  50.62360516,  50.72171709,\n",
       "        50.81982903,  50.91794097,  51.0160529 ,  51.11416484,\n",
       "        51.21227677,  51.31038871,  61.07737694,  61.17548887,\n",
       "        61.27360081,  61.37171274,  61.46982468,  61.56793661,\n",
       "        61.66604855,  61.76416049,  61.86227242,  61.96038436,\n",
       "        62.05849629,  62.15660823,  62.25472016,  62.3528321 ,\n",
       "        62.45094403,  62.54905597,  62.6471679 ,  62.74527984,\n",
       "        62.84339177,  62.94150371,  63.03961564,  63.13772758,\n",
       "        63.23583951,  63.33395145,  63.43206339,  63.53017532,\n",
       "        63.62828726,  63.72639919,  63.82451113,  63.92262306,\n",
       "        74.56057904,  74.65869097,  74.75680291,  74.85491484,\n",
       "        74.95302678,  75.05113871,  75.14925065,  75.24736258,\n",
       "        75.34547452,  75.44358645,  75.54169839,  75.63981032,\n",
       "        75.73792226,  75.83603419,  75.93414613,  76.03225806,\n",
       "        76.13037   ,  76.22848194,  76.32659387,  76.42470581,\n",
       "        76.52281774,  76.62092968,  76.71904161,  76.81715355,\n",
       "        76.91526548,  77.01337742,  77.11148935,  77.20960129,\n",
       "        77.30771322,  77.40582516,  77.50393709,  84.71071027,\n",
       "        84.80882221,  84.90693414,  85.00504608,  85.10315801,\n",
       "        85.20126995,  85.29938188,  85.39749382,  85.49560575,\n",
       "        85.59371769,  85.69182962,  85.78994156,  85.8880535 ,\n",
       "        85.98616543,  86.08427737,  86.1823893 ,  86.28050124,\n",
       "        86.37861317,  86.47672511,  86.57483704,  86.67294898,\n",
       "        86.77106091,  86.86917285,  86.96728478,  87.06539672,\n",
       "        87.16350865,  87.26162059,  87.35973252,  87.45784446,\n",
       "        87.55595639,  93.33477258,  93.43288452,  93.53099645,\n",
       "        93.62910839,  93.72722032,  93.82533226,  93.9234442 ,\n",
       "        94.02155613,  94.11966807,  94.21778   ,  94.31589194,\n",
       "        94.41400387,  94.51211581,  94.61022774,  94.70833968,\n",
       "        94.80645161,  94.90456355,  95.00267548,  95.10078742,\n",
       "        95.19889935,  95.29701129,  95.39512322,  95.49323516,\n",
       "        95.5913471 ,  95.68945903,  95.78757097,  95.8856829 ,\n",
       "        95.98379484,  96.08190677,  96.18001871,  96.27813064,\n",
       "        50.36703065,  50.46514258,  50.56325452,  50.66136645,\n",
       "        50.75947839,  50.85759032,  50.95570226,  51.0538142 ,\n",
       "        51.15192613,  51.25003807,  51.34815   ,  51.44626194,\n",
       "        51.54437387,  51.64248581,  51.74059774,  51.83870968,\n",
       "        51.93682161,  52.03493355,  52.13304548,  52.23115742,\n",
       "        52.32926935,  52.42738129,  52.52549322,  52.62360516,\n",
       "        52.72171709,  52.81982903,  52.91794097,  53.0160529 ,\n",
       "        53.11416484,  53.21227677,  53.31038871,  80.11071027,\n",
       "        80.20882221,  80.30693414,  80.40504608,  80.50315801,\n",
       "        80.60126995,  80.69938188,  80.79749382,  80.89560575,\n",
       "        80.99371769,  81.09182962,  81.18994156,  81.2880535 ,\n",
       "        81.38616543,  81.48427737,  81.5823893 ,  81.68050124,\n",
       "        81.77861317,  81.87672511,  81.97483704,  82.07294898,\n",
       "        82.17106091,  82.26917285,  82.36728478,  82.46539672,\n",
       "        82.56350865,  82.66162059,  82.75973252,  82.85784446,\n",
       "        82.95595639,  78.07670807,  78.17482   ,  78.27293194,\n",
       "        78.37104387,  78.46915581,  78.56726774,  78.66537968,\n",
       "        78.76349161,  78.86160355,  78.95971549,  79.05782742,\n",
       "        79.15593936,  79.25405129,  79.35216323,  79.45027516,\n",
       "        79.5483871 ,  79.64649903,  79.74461097,  79.8427229 ,\n",
       "        79.94083484,  80.03894677,  80.13705871,  80.23517064,\n",
       "        80.33328258,  80.43139451,  80.52950645,  80.62761838,\n",
       "        80.72573032,  80.82384226,  80.92195419,  81.02006613,\n",
       "        91.37737694,  91.47548887,  91.57360081,  91.67171274,\n",
       "        91.76982468,  91.86793661,  91.96604855,  92.06416049,\n",
       "        92.16227242,  92.26038436,  92.35849629,  92.45660823,\n",
       "        92.55472016,  92.6528321 ,  92.75094403,  92.84905597,\n",
       "        92.9471679 ,  93.04527984,  93.14339177,  93.24150371,\n",
       "        93.33961564,  93.43772758,  93.53583951,  93.63395145,\n",
       "        93.73206339,  93.83017532,  93.92828726,  94.02639919,\n",
       "        94.12451113,  94.22262306, 114.27025645, 114.36836839,\n",
       "       114.46648033, 114.56459226, 114.6627042 , 114.76081613,\n",
       "       114.85892807, 114.95704   , 115.05515194, 115.15326387,\n",
       "       115.25137581, 115.34948774, 115.44759968, 115.54571161,\n",
       "       115.64382355, 115.74193548, 115.84004742, 115.93815935,\n",
       "       116.03627129, 116.13438322, 116.23249516, 116.3306071 ,\n",
       "       116.42871903, 116.52683097, 116.6249429 , 116.72305484,\n",
       "       116.82116677, 116.91927871, 117.01739064, 117.11550258,\n",
       "       117.21361451])"
      ]
     },
     "execution_count": 74,
     "metadata": {},
     "output_type": "execute_result"
    }
   ],
   "source": [
    "previsao"
   ]
  },
  {
   "cell_type": "code",
   "execution_count": 75,
   "id": "e6233004",
   "metadata": {},
   "outputs": [],
   "source": [
    "vendas['previsão'] = previsao"
   ]
  },
  {
   "cell_type": "code",
   "execution_count": 76,
   "id": "2f33d634",
   "metadata": {},
   "outputs": [
    {
     "data": {
      "text/html": [
       "<div>\n",
       "<style scoped>\n",
       "    .dataframe tbody tr th:only-of-type {\n",
       "        vertical-align: middle;\n",
       "    }\n",
       "\n",
       "    .dataframe tbody tr th {\n",
       "        vertical-align: top;\n",
       "    }\n",
       "\n",
       "    .dataframe thead th {\n",
       "        text-align: right;\n",
       "    }\n",
       "</style>\n",
       "<table border=\"1\" class=\"dataframe\">\n",
       "  <thead>\n",
       "    <tr style=\"text-align: right;\">\n",
       "      <th></th>\n",
       "      <th>Data</th>\n",
       "      <th>Qtd Vendida</th>\n",
       "      <th>Mês</th>\n",
       "      <th>trend</th>\n",
       "      <th>previsão</th>\n",
       "    </tr>\n",
       "  </thead>\n",
       "  <tbody>\n",
       "    <tr>\n",
       "      <th>0</th>\n",
       "      <td>2020-01-01</td>\n",
       "      <td>99</td>\n",
       "      <td>1</td>\n",
       "      <td>0</td>\n",
       "      <td>106.399289</td>\n",
       "    </tr>\n",
       "    <tr>\n",
       "      <th>1</th>\n",
       "      <td>2020-01-02</td>\n",
       "      <td>102</td>\n",
       "      <td>1</td>\n",
       "      <td>1</td>\n",
       "      <td>106.497401</td>\n",
       "    </tr>\n",
       "    <tr>\n",
       "      <th>2</th>\n",
       "      <td>2020-01-03</td>\n",
       "      <td>136</td>\n",
       "      <td>1</td>\n",
       "      <td>2</td>\n",
       "      <td>106.595513</td>\n",
       "    </tr>\n",
       "    <tr>\n",
       "      <th>3</th>\n",
       "      <td>2020-01-04</td>\n",
       "      <td>73</td>\n",
       "      <td>1</td>\n",
       "      <td>3</td>\n",
       "      <td>106.693625</td>\n",
       "    </tr>\n",
       "    <tr>\n",
       "      <th>4</th>\n",
       "      <td>2020-01-05</td>\n",
       "      <td>78</td>\n",
       "      <td>1</td>\n",
       "      <td>4</td>\n",
       "      <td>106.791736</td>\n",
       "    </tr>\n",
       "    <tr>\n",
       "      <th>...</th>\n",
       "      <td>...</td>\n",
       "      <td>...</td>\n",
       "      <td>...</td>\n",
       "      <td>...</td>\n",
       "      <td>...</td>\n",
       "    </tr>\n",
       "    <tr>\n",
       "      <th>360</th>\n",
       "      <td>2020-12-27</td>\n",
       "      <td>115</td>\n",
       "      <td>12</td>\n",
       "      <td>360</td>\n",
       "      <td>116.821167</td>\n",
       "    </tr>\n",
       "    <tr>\n",
       "      <th>361</th>\n",
       "      <td>2020-12-28</td>\n",
       "      <td>157</td>\n",
       "      <td>12</td>\n",
       "      <td>361</td>\n",
       "      <td>116.919279</td>\n",
       "    </tr>\n",
       "    <tr>\n",
       "      <th>362</th>\n",
       "      <td>2020-12-29</td>\n",
       "      <td>91</td>\n",
       "      <td>12</td>\n",
       "      <td>362</td>\n",
       "      <td>117.017391</td>\n",
       "    </tr>\n",
       "    <tr>\n",
       "      <th>363</th>\n",
       "      <td>2020-12-30</td>\n",
       "      <td>134</td>\n",
       "      <td>12</td>\n",
       "      <td>363</td>\n",
       "      <td>117.115503</td>\n",
       "    </tr>\n",
       "    <tr>\n",
       "      <th>364</th>\n",
       "      <td>2020-12-31</td>\n",
       "      <td>151</td>\n",
       "      <td>12</td>\n",
       "      <td>364</td>\n",
       "      <td>117.213615</td>\n",
       "    </tr>\n",
       "  </tbody>\n",
       "</table>\n",
       "<p>365 rows × 5 columns</p>\n",
       "</div>"
      ],
      "text/plain": [
       "          Data  Qtd Vendida Mês  trend    previsão\n",
       "0   2020-01-01           99   1      0  106.399289\n",
       "1   2020-01-02          102   1      1  106.497401\n",
       "2   2020-01-03          136   1      2  106.595513\n",
       "3   2020-01-04           73   1      3  106.693625\n",
       "4   2020-01-05           78   1      4  106.791736\n",
       "..         ...          ...  ..    ...         ...\n",
       "360 2020-12-27          115  12    360  116.821167\n",
       "361 2020-12-28          157  12    361  116.919279\n",
       "362 2020-12-29           91  12    362  117.017391\n",
       "363 2020-12-30          134  12    363  117.115503\n",
       "364 2020-12-31          151  12    364  117.213615\n",
       "\n",
       "[365 rows x 5 columns]"
      ]
     },
     "execution_count": 76,
     "metadata": {},
     "output_type": "execute_result"
    }
   ],
   "source": [
    "vendas"
   ]
  },
  {
   "cell_type": "code",
   "execution_count": 77,
   "id": "f7cfcdb4",
   "metadata": {},
   "outputs": [
    {
     "data": {
      "image/png": "[encoded data removed]",
      "text/plain": [
       "<Figure size 640x480 with 1 Axes>"
      ]
     },
     "metadata": {},
     "output_type": "display_data"
    }
   ],
   "source": [
    "plt.plot(vendas['Data'], vendas['Qtd Vendida'], label = \"Real\")\n",
    "plt.plot(vendas['Data'], vendas['previsão'], label = \"Previsão\")\n",
    "plt.legend(loc = \"upper left\")\n",
    "plt.show()"
   ]
  },
  {
   "cell_type": "markdown",
   "id": "26f7ef17",
   "metadata": {},
   "source": [
    "## Parte IV: Fazendo a Previsão de Demanda"
   ]
  },
  {
   "cell_type": "code",
   "execution_count": 78,
   "id": "01b51f76",
   "metadata": {},
   "outputs": [
    {
     "data": {
      "text/plain": [
       "Timestamp('2020-12-31 00:00:00')"
      ]
     },
     "execution_count": 78,
     "metadata": {},
     "output_type": "execute_result"
    }
   ],
   "source": [
    "data_max = vendas.Data.max()\n",
    "data_max"
   ]
  },
  {
   "cell_type": "code",
   "execution_count": 79,
   "id": "501f3667",
   "metadata": {},
   "outputs": [],
   "source": [
    "datas = pd.date_range('2021-01-01', '2021-12-31', freq = 'W')"
   ]
  },
  {
   "cell_type": "code",
   "execution_count": 80,
   "id": "a4377983",
   "metadata": {
    "scrolled": true
   },
   "outputs": [],
   "source": [
    "datas = pd.DataFrame({'Data': datas}, index = range(len(datas)))"
   ]
  },
  {
   "cell_type": "code",
   "execution_count": 81,
   "id": "e0847384",
   "metadata": {},
   "outputs": [
    {
     "data": {
      "text/html": [
       "<div>\n",
       "<style scoped>\n",
       "    .dataframe tbody tr th:only-of-type {\n",
       "        vertical-align: middle;\n",
       "    }\n",
       "\n",
       "    .dataframe tbody tr th {\n",
       "        vertical-align: top;\n",
       "    }\n",
       "\n",
       "    .dataframe thead th {\n",
       "        text-align: right;\n",
       "    }\n",
       "</style>\n",
       "<table border=\"1\" class=\"dataframe\">\n",
       "  <thead>\n",
       "    <tr style=\"text-align: right;\">\n",
       "      <th></th>\n",
       "      <th>Data</th>\n",
       "    </tr>\n",
       "  </thead>\n",
       "  <tbody>\n",
       "    <tr>\n",
       "      <th>0</th>\n",
       "      <td>2021-01-03</td>\n",
       "    </tr>\n",
       "    <tr>\n",
       "      <th>1</th>\n",
       "      <td>2021-01-10</td>\n",
       "    </tr>\n",
       "    <tr>\n",
       "      <th>2</th>\n",
       "      <td>2021-01-17</td>\n",
       "    </tr>\n",
       "    <tr>\n",
       "      <th>3</th>\n",
       "      <td>2021-01-24</td>\n",
       "    </tr>\n",
       "    <tr>\n",
       "      <th>4</th>\n",
       "      <td>2021-01-31</td>\n",
       "    </tr>\n",
       "    <tr>\n",
       "      <th>5</th>\n",
       "      <td>2021-02-07</td>\n",
       "    </tr>\n",
       "    <tr>\n",
       "      <th>6</th>\n",
       "      <td>2021-02-14</td>\n",
       "    </tr>\n",
       "    <tr>\n",
       "      <th>7</th>\n",
       "      <td>2021-02-21</td>\n",
       "    </tr>\n",
       "    <tr>\n",
       "      <th>8</th>\n",
       "      <td>2021-02-28</td>\n",
       "    </tr>\n",
       "    <tr>\n",
       "      <th>9</th>\n",
       "      <td>2021-03-07</td>\n",
       "    </tr>\n",
       "    <tr>\n",
       "      <th>10</th>\n",
       "      <td>2021-03-14</td>\n",
       "    </tr>\n",
       "    <tr>\n",
       "      <th>11</th>\n",
       "      <td>2021-03-21</td>\n",
       "    </tr>\n",
       "    <tr>\n",
       "      <th>12</th>\n",
       "      <td>2021-03-28</td>\n",
       "    </tr>\n",
       "    <tr>\n",
       "      <th>13</th>\n",
       "      <td>2021-04-04</td>\n",
       "    </tr>\n",
       "    <tr>\n",
       "      <th>14</th>\n",
       "      <td>2021-04-11</td>\n",
       "    </tr>\n",
       "    <tr>\n",
       "      <th>15</th>\n",
       "      <td>2021-04-18</td>\n",
       "    </tr>\n",
       "    <tr>\n",
       "      <th>16</th>\n",
       "      <td>2021-04-25</td>\n",
       "    </tr>\n",
       "    <tr>\n",
       "      <th>17</th>\n",
       "      <td>2021-05-02</td>\n",
       "    </tr>\n",
       "    <tr>\n",
       "      <th>18</th>\n",
       "      <td>2021-05-09</td>\n",
       "    </tr>\n",
       "    <tr>\n",
       "      <th>19</th>\n",
       "      <td>2021-05-16</td>\n",
       "    </tr>\n",
       "    <tr>\n",
       "      <th>20</th>\n",
       "      <td>2021-05-23</td>\n",
       "    </tr>\n",
       "    <tr>\n",
       "      <th>21</th>\n",
       "      <td>2021-05-30</td>\n",
       "    </tr>\n",
       "    <tr>\n",
       "      <th>22</th>\n",
       "      <td>2021-06-06</td>\n",
       "    </tr>\n",
       "    <tr>\n",
       "      <th>23</th>\n",
       "      <td>2021-06-13</td>\n",
       "    </tr>\n",
       "    <tr>\n",
       "      <th>24</th>\n",
       "      <td>2021-06-20</td>\n",
       "    </tr>\n",
       "    <tr>\n",
       "      <th>25</th>\n",
       "      <td>2021-06-27</td>\n",
       "    </tr>\n",
       "    <tr>\n",
       "      <th>26</th>\n",
       "      <td>2021-07-04</td>\n",
       "    </tr>\n",
       "    <tr>\n",
       "      <th>27</th>\n",
       "      <td>2021-07-11</td>\n",
       "    </tr>\n",
       "    <tr>\n",
       "      <th>28</th>\n",
       "      <td>2021-07-18</td>\n",
       "    </tr>\n",
       "    <tr>\n",
       "      <th>29</th>\n",
       "      <td>2021-07-25</td>\n",
       "    </tr>\n",
       "    <tr>\n",
       "      <th>30</th>\n",
       "      <td>2021-08-01</td>\n",
       "    </tr>\n",
       "    <tr>\n",
       "      <th>31</th>\n",
       "      <td>2021-08-08</td>\n",
       "    </tr>\n",
       "    <tr>\n",
       "      <th>32</th>\n",
       "      <td>2021-08-15</td>\n",
       "    </tr>\n",
       "    <tr>\n",
       "      <th>33</th>\n",
       "      <td>2021-08-22</td>\n",
       "    </tr>\n",
       "    <tr>\n",
       "      <th>34</th>\n",
       "      <td>2021-08-29</td>\n",
       "    </tr>\n",
       "    <tr>\n",
       "      <th>35</th>\n",
       "      <td>2021-09-05</td>\n",
       "    </tr>\n",
       "    <tr>\n",
       "      <th>36</th>\n",
       "      <td>2021-09-12</td>\n",
       "    </tr>\n",
       "    <tr>\n",
       "      <th>37</th>\n",
       "      <td>2021-09-19</td>\n",
       "    </tr>\n",
       "    <tr>\n",
       "      <th>38</th>\n",
       "      <td>2021-09-26</td>\n",
       "    </tr>\n",
       "    <tr>\n",
       "      <th>39</th>\n",
       "      <td>2021-10-03</td>\n",
       "    </tr>\n",
       "    <tr>\n",
       "      <th>40</th>\n",
       "      <td>2021-10-10</td>\n",
       "    </tr>\n",
       "    <tr>\n",
       "      <th>41</th>\n",
       "      <td>2021-10-17</td>\n",
       "    </tr>\n",
       "    <tr>\n",
       "      <th>42</th>\n",
       "      <td>2021-10-24</td>\n",
       "    </tr>\n",
       "    <tr>\n",
       "      <th>43</th>\n",
       "      <td>2021-10-31</td>\n",
       "    </tr>\n",
       "    <tr>\n",
       "      <th>44</th>\n",
       "      <td>2021-11-07</td>\n",
       "    </tr>\n",
       "    <tr>\n",
       "      <th>45</th>\n",
       "      <td>2021-11-14</td>\n",
       "    </tr>\n",
       "    <tr>\n",
       "      <th>46</th>\n",
       "      <td>2021-11-21</td>\n",
       "    </tr>\n",
       "    <tr>\n",
       "      <th>47</th>\n",
       "      <td>2021-11-28</td>\n",
       "    </tr>\n",
       "    <tr>\n",
       "      <th>48</th>\n",
       "      <td>2021-12-05</td>\n",
       "    </tr>\n",
       "    <tr>\n",
       "      <th>49</th>\n",
       "      <td>2021-12-12</td>\n",
       "    </tr>\n",
       "    <tr>\n",
       "      <th>50</th>\n",
       "      <td>2021-12-19</td>\n",
       "    </tr>\n",
       "    <tr>\n",
       "      <th>51</th>\n",
       "      <td>2021-12-26</td>\n",
       "    </tr>\n",
       "  </tbody>\n",
       "</table>\n",
       "</div>"
      ],
      "text/plain": [
       "         Data\n",
       "0  2021-01-03\n",
       "1  2021-01-10\n",
       "2  2021-01-17\n",
       "3  2021-01-24\n",
       "4  2021-01-31\n",
       "5  2021-02-07\n",
       "6  2021-02-14\n",
       "7  2021-02-21\n",
       "8  2021-02-28\n",
       "9  2021-03-07\n",
       "10 2021-03-14\n",
       "11 2021-03-21\n",
       "12 2021-03-28\n",
       "13 2021-04-04\n",
       "14 2021-04-11\n",
       "15 2021-04-18\n",
       "16 2021-04-25\n",
       "17 2021-05-02\n",
       "18 2021-05-09\n",
       "19 2021-05-16\n",
       "20 2021-05-23\n",
       "21 2021-05-30\n",
       "22 2021-06-06\n",
       "23 2021-06-13\n",
       "24 2021-06-20\n",
       "25 2021-06-27\n",
       "26 2021-07-04\n",
       "27 2021-07-11\n",
       "28 2021-07-18\n",
       "29 2021-07-25\n",
       "30 2021-08-01\n",
       "31 2021-08-08\n",
       "32 2021-08-15\n",
       "33 2021-08-22\n",
       "34 2021-08-29\n",
       "35 2021-09-05\n",
       "36 2021-09-12\n",
       "37 2021-09-19\n",
       "38 2021-09-26\n",
       "39 2021-10-03\n",
       "40 2021-10-10\n",
       "41 2021-10-17\n",
       "42 2021-10-24\n",
       "43 2021-10-31\n",
       "44 2021-11-07\n",
       "45 2021-11-14\n",
       "46 2021-11-21\n",
       "47 2021-11-28\n",
       "48 2021-12-05\n",
       "49 2021-12-12\n",
       "50 2021-12-19\n",
       "51 2021-12-26"
      ]
     },
     "execution_count": 81,
     "metadata": {},
     "output_type": "execute_result"
    }
   ],
   "source": [
    "datas"
   ]
  },
  {
   "cell_type": "code",
   "execution_count": 82,
   "id": "4e2e9371",
   "metadata": {},
   "outputs": [],
   "source": [
    "vendas =  pd.concat([vendas, datas], axis = 0)"
   ]
  },
  {
   "cell_type": "code",
   "execution_count": 83,
   "id": "82ccf2a4",
   "metadata": {},
   "outputs": [],
   "source": [
    "vendas = dados.groupby(['Data'])[['Qtd Vendida']].sum().reset_index()"
   ]
  },
  {
   "cell_type": "code",
   "execution_count": 84,
   "id": "a468a7cb",
   "metadata": {},
   "outputs": [
    {
     "data": {
      "text/html": [
       "<div>\n",
       "<style scoped>\n",
       "    .dataframe tbody tr th:only-of-type {\n",
       "        vertical-align: middle;\n",
       "    }\n",
       "\n",
       "    .dataframe tbody tr th {\n",
       "        vertical-align: top;\n",
       "    }\n",
       "\n",
       "    .dataframe thead th {\n",
       "        text-align: right;\n",
       "    }\n",
       "</style>\n",
       "<table border=\"1\" class=\"dataframe\">\n",
       "  <thead>\n",
       "    <tr style=\"text-align: right;\">\n",
       "      <th></th>\n",
       "      <th>Data</th>\n",
       "      <th>Qtd Vendida</th>\n",
       "    </tr>\n",
       "  </thead>\n",
       "  <tbody>\n",
       "    <tr>\n",
       "      <th>0</th>\n",
       "      <td>2020-01-01</td>\n",
       "      <td>99.0</td>\n",
       "    </tr>\n",
       "    <tr>\n",
       "      <th>1</th>\n",
       "      <td>2020-01-02</td>\n",
       "      <td>102.0</td>\n",
       "    </tr>\n",
       "    <tr>\n",
       "      <th>2</th>\n",
       "      <td>2020-01-03</td>\n",
       "      <td>136.0</td>\n",
       "    </tr>\n",
       "    <tr>\n",
       "      <th>3</th>\n",
       "      <td>2020-01-04</td>\n",
       "      <td>73.0</td>\n",
       "    </tr>\n",
       "    <tr>\n",
       "      <th>4</th>\n",
       "      <td>2020-01-05</td>\n",
       "      <td>78.0</td>\n",
       "    </tr>\n",
       "    <tr>\n",
       "      <th>...</th>\n",
       "      <td>...</td>\n",
       "      <td>...</td>\n",
       "    </tr>\n",
       "    <tr>\n",
       "      <th>47</th>\n",
       "      <td>2021-11-28</td>\n",
       "      <td>NaN</td>\n",
       "    </tr>\n",
       "    <tr>\n",
       "      <th>48</th>\n",
       "      <td>2021-12-05</td>\n",
       "      <td>NaN</td>\n",
       "    </tr>\n",
       "    <tr>\n",
       "      <th>49</th>\n",
       "      <td>2021-12-12</td>\n",
       "      <td>NaN</td>\n",
       "    </tr>\n",
       "    <tr>\n",
       "      <th>50</th>\n",
       "      <td>2021-12-19</td>\n",
       "      <td>NaN</td>\n",
       "    </tr>\n",
       "    <tr>\n",
       "      <th>51</th>\n",
       "      <td>2021-12-26</td>\n",
       "      <td>NaN</td>\n",
       "    </tr>\n",
       "  </tbody>\n",
       "</table>\n",
       "<p>417 rows × 2 columns</p>\n",
       "</div>"
      ],
      "text/plain": [
       "         Data  Qtd Vendida\n",
       "0  2020-01-01         99.0\n",
       "1  2020-01-02        102.0\n",
       "2  2020-01-03        136.0\n",
       "3  2020-01-04         73.0\n",
       "4  2020-01-05         78.0\n",
       "..        ...          ...\n",
       "47 2021-11-28          NaN\n",
       "48 2021-12-05          NaN\n",
       "49 2021-12-12          NaN\n",
       "50 2021-12-19          NaN\n",
       "51 2021-12-26          NaN\n",
       "\n",
       "[417 rows x 2 columns]"
      ]
     },
     "execution_count": 84,
     "metadata": {},
     "output_type": "execute_result"
    }
   ],
   "source": [
    "vendas =  pd.concat([vendas, datas], axis = 0)\n",
    "vendas"
   ]
  },
  {
   "cell_type": "code",
   "execution_count": 85,
   "id": "0f85249b",
   "metadata": {},
   "outputs": [],
   "source": [
    "vendas['trend'] = range(vendas.shape[0])"
   ]
  },
  {
   "cell_type": "code",
   "execution_count": 86,
   "id": "b702ae1c",
   "metadata": {},
   "outputs": [],
   "source": [
    "vendas['Mês'] = vendas['Data'].dt.month"
   ]
  },
  {
   "cell_type": "code",
   "execution_count": 87,
   "id": "b8b4bc3f",
   "metadata": {},
   "outputs": [],
   "source": [
    "vendas['Mês'] = vendas['Mês'].astype('category')"
   ]
  },
  {
   "cell_type": "code",
   "execution_count": 88,
   "id": "7c199a09",
   "metadata": {},
   "outputs": [],
   "source": [
    "x = vendas.drop(columns = ['Data', 'Qtd Vendida'], axis = 1)"
   ]
  },
  {
   "cell_type": "code",
   "execution_count": 89,
   "id": "c4a86899",
   "metadata": {},
   "outputs": [],
   "source": [
    "nomes = pd.get_dummies(x).columns\n",
    "x = pd.get_dummies(x).values\n",
    "y = vendas['Qtd Vendida'].values"
   ]
  },
  {
   "cell_type": "code",
   "execution_count": 90,
   "id": "bd05a382",
   "metadata": {},
   "outputs": [],
   "source": [
    "previsao = modelo.predict(x)"
   ]
  },
  {
   "cell_type": "code",
   "execution_count": 91,
   "id": "7417c191",
   "metadata": {},
   "outputs": [],
   "source": [
    "vendas['previsão'] = previsao"
   ]
  },
  {
   "cell_type": "code",
   "execution_count": 92,
   "id": "6ac70031",
   "metadata": {},
   "outputs": [
    {
     "data": {
      "image/png": "[encoded data removed]",
      "text/plain": [
       "<Figure size 800x500 with 1 Axes>"
      ]
     },
     "metadata": {},
     "output_type": "display_data"
    }
   ],
   "source": [
    "sns.set_style('darkgrid')\n",
    "\n",
    "plt.figure(figsize=(8, 5))\n",
    "plt.plot(vendas['Data'], vendas['Qtd Vendida'], label = \"Real\")\n",
    "plt.plot(vendas['Data'], vendas['previsão'], label = \"Previsão\")\n",
    "plt.legend(loc = \"upper left\")\n",
    "\n",
    "plt.xlabel('Período', fontsize = 12)\n",
    "plt.ylabel('Nível de Demanda (unidades)', fontsize = 12)\n",
    "plt.title('Previsão de Demanda', fontsize = 15)\n",
    "\n",
    "plt.show()"
   ]
  }
 ],
 "metadata": {
  "kernelspec": {
   "display_name": "Python 3 (ipykernel)",
   "language": "python",
   "name": "python3"
  },
  "language_info": {
   "codemirror_mode": {
    "name": "ipython",
    "version": 3
   },
   "file_extension": ".py",
   "mimetype": "text/x-python",
   "name": "python",
   "nbconvert_exporter": "python",
   "pygments_lexer": "ipython3",
   "version": "3.9.13"
  }
 },
 "nbformat": 4,
 "nbformat_minor": 5
}
